{
 "cells": [
  {
   "cell_type": "code",
   "execution_count": 2,
   "id": "581443cd-3bf2-492c-9d44-652c4090e634",
   "metadata": {
    "tags": []
   },
   "outputs": [],
   "source": [
    "# Load the libraries that are needed\n",
    "from langchain.document_loaders import PyPDFLoader, PyPDFDirectoryLoader\n",
    "from langchain.text_splitter import RecursiveCharacterTextSplitter\n",
    "\n",
    "import os\n",
    "import random"
   ]
  },
  {
   "cell_type": "code",
   "execution_count": 3,
   "id": "60382de7-437f-4521-9a6a-5c0af2daa292",
   "metadata": {
    "tags": []
   },
   "outputs": [],
   "source": [
    "# Load the document that you need to parse, please change the location to where the pdf resides\n",
    "# There are some example pdf's in the data folder in the repo you can use\n",  
    "\n",
    "# Load 1 PDF file\n",
    "loader = PyPDFLoader(\"/mnt/code/data/Northwind_Health_Plus_Benefits_Details.pdf\")\n",
    "# Load an entire folder\n",
    "# loader = PyPDFDirectoryLoader(\"/mnt/data/RAG/\")\n",
    "texts = loader.load_and_split(RecursiveCharacterTextSplitter(chunk_size=1000, chunk_overlap=0))"
   ]
  },
  {
   "cell_type": "code",
   "execution_count": 4,
   "id": "382a6f96-1fff-41f1-a9a6-17a0f6c248a6",
   "metadata": {
    "tags": []
   },
   "outputs": [
    {
     "name": "stdout",
     "output_type": "stream",
     "text": [
      "There are 744 pages in the document\n"
     ]
    }
   ],
   "source": [
    "print(f\"There are {len(texts)} pages in the document\")"
   ]
  },
  {
   "cell_type": "code",
   "execution_count": 5,
   "id": "9aec2937-6589-4db0-b91d-af964b08c7e4",
   "metadata": {
    "tags": []
   },
   "outputs": [
    {
     "name": "stdout",
     "output_type": "stream",
     "text": [
      "page_content='oral hygiene is also important, as TMJ can be caused by dental problems such as \\nmisalignment of the teeth.  \\nFinally, employees should be aware that TMJ is a chronic condition, which means that it may \\nrequire ongoing management. Regular visits to the he althcare provider for diagnosis and \\ntreatment may be necessary in order to manage the condition. Employees should also be \\naware that the Northwind Standard plan does not cover all TMJ treatments, so it is \\nimportant to understand their financial responsibil ity for any treatment that is not covered.  \\nIn conclusion, the Northwind Standard plan does provide coverage for TMJ care, but there \\nmay be certain treatments and services that are not covered. It is important for employees \\nto understand their financial res ponsibility prior to receiving treatment, and to discuss their \\ncondition and treatment options with their healthcare provider. Additionally, it is important' metadata={'source': '/mnt/data/RAG/Northwind_Standard_Benefits_Details.pdf', 'page': 53}\n"
     ]
    }
   ],
   "source": [
    "# Pick a sample page\n",
    "print(texts[random.randint(0, len(texts))])"
   ]
  },
  {
   "cell_type": "code",
   "execution_count": 6,
   "id": "a0931124-7047-4fe8-9113-c84e07743164",
   "metadata": {
    "tags": []
   },
   "outputs": [
    {
     "name": "stderr",
     "output_type": "stream",
     "text": [
      "/usr/local/lib/python3.8/dist-packages/pinecone/index.py:4: TqdmWarning: IProgress not found. Please update jupyter and ipywidgets. See https://ipywidgets.readthedocs.io/en/stable/user_install.html\n",
      "  from tqdm.autonotebook import tqdm\n"
     ]
    }
   ],
   "source": [
    "#Create embeddings of your documents to get ready for semantic search\n",
    "\n",
    "from langchain.vectorstores import FAISS\n",
    "from langchain.embeddings.openai import OpenAIEmbeddings\n",
    "from langchain.chains.qa_with_sources import load_qa_with_sources_chain\n",
    "from langchain.chains import RetrievalQA\n",
    "from langchain.chat_models import ChatOpenAI\n",
    "from langchain.llms import OpenAI\n",
    "import pinecone\n",
    "import pickle\n"
   ]
  },
  {
   "cell_type": "code",
   "execution_count": 8,
   "id": "f0c0d06f-3daa-4c82-9e91-7db8739227c0",
   "metadata": {
    "tags": []
   },
   "outputs": [],
   "source": [
    "# Read your OpenAI key from the environment\n",
    "\n",
    "OPENAI_API_KEY = os.getenv('OPENAI_API_KEY') \n",
    "embeddings = OpenAIEmbeddings(openai_api_key=OPENAI_API_KEY)"
   ]
  },
  {
   "cell_type": "code",
   "execution_count": 10,
   "id": "18942653-32c7-4a78-ab05-db1c6b76aabb",
   "metadata": {
    "tags": []
   },
   "outputs": [],
   "source": [
    "# Index and store the embeddings locally in a pickle file\n",
    "store = FAISS.from_texts([t.page_content for t in texts], embeddings)\n",
    "with open(\"healthcareplandetails.pkl\", \"wb\") as f:\n",
    "    pickle.dump(store, f)\n"
   ]
  },
  {
   "cell_type": "code",
   "execution_count": 9,
   "id": "47ad3073-df19-4695-86ba-c61bf1256de0",
   "metadata": {
    "tags": []
   },
   "outputs": [
    {
     "data": {
      "text/plain": [
       "{'result': \"Based on the provided information, the Northwind Standard plan covers mental health services, physical therapy, and inpatient care for newborns. However, it does not cover home health care, long-term care, alternative therapies (such as acupuncture, massage, and chiropractic care), or cosmetic treatments. It is important to review your specific plan to understand what is and isn't covered in detail.\"}"
      ]
     },
     "execution_count": 9,
     "metadata": {},
     "output_type": "execute_result"
    }
   ],
   "source": [
    "# Load the embeddings from the pickle file; change the location if needed\n",
    "if 'store' not in locals() or store is None:\n",
    "    with open(\"healthcareplandetails.pkl\", \"rb\") as f:\n",
    "        store = pickle.load(f)\n",
    "        \n",
    "qa = RetrievalQA.from_chain_type(llm=ChatOpenAI(model_name='gpt-3.5-turbo', temperature=0, openai_api_key=OPENAI_API_KEY), chain_type=\"stuff\", retriever=store.as_retriever())\n",
    "\n",
    "query = \"Which does my plan cover?\"\n",
    "docs = store.similarity_search(query)\n",
    "qa({\"input_documents\": docs, \"query\": query}, return_only_outputs=True)"
   ]
  },
  {
   "cell_type": "code",
   "execution_count": null,
   "id": "71cbb486-400d-40bf-87b7-66bb1fd2026c",
   "metadata": {},
   "outputs": [],
   "source": []
  }
 ],
 "metadata": {
  "dca-init": "true",
  "kernelspec": {
   "display_name": "Python 3 (ipykernel)",
   "language": "python",
   "name": "python3"
  },
  "language_info": {
   "codemirror_mode": {
    "name": "ipython",
    "version": 3
   },
   "file_extension": ".py",
   "mimetype": "text/x-python",
   "name": "python",
   "nbconvert_exporter": "python",
   "pygments_lexer": "ipython3",
   "version": "3.8.10"
  }
 },
 "nbformat": 4,
 "nbformat_minor": 5
}
