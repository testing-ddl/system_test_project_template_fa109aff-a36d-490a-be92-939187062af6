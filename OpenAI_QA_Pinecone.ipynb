{
 "cells": [
  {
   "cell_type": "code",
   "execution_count": 6,
   "id": "ed1d7574-4089-4cb7-aec9-64c5031cde76",
   "metadata": {
    "tags": []
   },
   "outputs": [],
   "source": [
    "# Load the libraries that are needed\n",
    "from langchain.chat_models import ChatOpenAI\n",
    "from langchain.document_loaders import PyPDFLoader\n",
    "from langchain.text_splitter import RecursiveCharacterTextSplitter\n",
    "\n",
    "import os\n",
    "import random"
   ]
  },
  {
   "cell_type": "code",
   "execution_count": 7,
   "id": "46cfdb9c-843e-4899-ae36-99fa94fd6158",
   "metadata": {
    "tags": []
   },
   "outputs": [],
   "source": [
    "# Load the document, please set this location to where your PDF resides\n",
    "# There are some example pdf's in the data folder in the repo that you can use\n",
    "loader = PyPDFLoader(\"/mnt/code/Select_Global_Value_Fund.pdf\")\n",
    "texts = loader.load_and_split(RecursiveCharacterTextSplitter(chunk_size=1000, chunk_overlap=0))"
   ]
  },
  {
   "cell_type": "code",
   "execution_count": 8,
   "id": "ceda3403-c2ec-4d2b-93e1-6eb9488ac343",
   "metadata": {
    "tags": []
   },
   "outputs": [
    {
     "name": "stdout",
     "output_type": "stream",
     "text": [
      "There are 71 pages in the document\n"
     ]
    }
   ],
   "source": [
    "print(f\"There are {len(texts)} pages in the document\")"
   ]
  },
  {
   "cell_type": "code",
   "execution_count": 10,
   "id": "6729a583-d30f-4796-878d-dbbd1039b3bc",
   "metadata": {
    "tags": []
   },
   "outputs": [
    {
     "name": "stdout",
     "output_type": "stream",
     "text": [
      "page_content='controller (2019–2022) and director of Audit Services(2017–2019) at Vanguard. Senior manager\\n(2015–2017) at PriceWaterhouseCoopers (audit and\\nassurance, consulting, and tax services).\\nPeter Mahoney\\nBorn in 197 4. Principal occupation(s) during the past\\nfive years and other experience: principal of Vanguard.\\nController (2015–present) of each of the investment\\ncompanies served by Vanguard. Head of International\\nFund Services (2008–2014) at Vanguard.\\nAnne E. Robinson\\nBorn in 1970. Principal occupation(s) during the past\\nfive years and other experience: general counsel\\n(2016–present) of Vanguard. Secretary (2016–present)\\nof Vanguard and of each of the investment companies\\nserved by Vanguard. Managing director\\n(2016–present) of Vanguard. Managing director and\\ngeneral counsel of Global Cards and ConsumerServices (2014–2016) at Citigroup. Counsel\\n(2003–2014) at American Express. Nonexecutive\\ndirector of the board of National Grid (energy).Michael Rollings' metadata={'source': '/mnt/code/Select_Global_Value_Fund.pdf', 'page': 26}\n"
     ]
    }
   ],
   "source": [
    "# Pick a sample page\n",
    "print(texts[random.randint(0, len(texts))])"
   ]
  },
  {
   "cell_type": "code",
   "execution_count": null,
   "id": "ce06ef56-7cf2-4868-beb4-e95be654788d",
   "metadata": {
    "tags": []
   },
   "outputs": [],
   "source": [
    "#Create embeddings of your documents to get ready for semantic search\n",
    "\n",
    "from langchain.vectorstores import Pinecone\n",
    "from langchain.embeddings.openai import OpenAIEmbeddings\n",
    "import pinecone\n",
    "import pickle\n"
   ]
  },
  {
   "cell_type": "code",
   "execution_count": 12,
   "id": "475ca001-db5d-4932-a76b-b2d7398e961b",
   "metadata": {
    "tags": []
   },
   "outputs": [],
   "source": [
    "# Read your OpenAI and Pinecone keys from the environment\n",
    "OPENAI_API_KEY = os.getenv('OPENAI_API_KEY') \n",
    "PINECONE_API_KEY = os.getenv('PINECONE_API_KEY')\n",
    "PINECONE_API_ENV = os.getenv('PINECONE_API_ENV')"
   ]
  },
  {
   "cell_type": "code",
   "execution_count": 16,
   "id": "fadfd8ac-00e2-4631-a1c5-7fd5ce545ca4",
   "metadata": {
    "tags": []
   },
   "outputs": [],
   "source": [
    "embeddings = OpenAIEmbeddings(openai_api_key=OPENAI_API_KEY)"
   ]
  },
  {
   "cell_type": "code",
   "execution_count": 17,
   "id": "3566cd65-e2ca-47fe-b0b3-d32146695e16",
   "metadata": {
    "tags": []
   },
   "outputs": [],
   "source": [
    "# initialize pinecone\n",
    "pinecone.init(\n",
    "    api_key=PINECONE_API_KEY,  # find at app.pinecone.io\n",
    "    environment=PINECONE_API_ENV  # next to api key in console\n",
    ")\n",
    "index_name = \"vanguard-etf\""
   ]
  },
  {
   "cell_type": "code",
   "execution_count": 19,
   "id": "4a748c65-c6ec-4701-b1d0-4db9e4a1211d",
   "metadata": {
    "tags": []
   },
   "outputs": [],
   "source": [
    "# Generate and store the embeddings in Pinecone\n",
    "\n",
    "# Please ensure that the index exists in Pinecone and the dimensions match those of OpenAI embeddings (1536). \n",
    "docsearch = Pinecone.from_texts([t.page_content for t in texts], embeddings, index_name=index_name)"
   ]
  },
  {
   "cell_type": "code",
   "execution_count": 20,
   "id": "996a2052-11e2-4f50-8915-532f9fa127a3",
   "metadata": {
    "tags": []
   },
   "outputs": [],
   "source": [
    "# Query the docs to get your answer back\n",
    "from langchain.llms import OpenAI\n",
    "from langchain.chains.question_answering import load_qa_chain"
   ]
  },
  {
   "cell_type": "code",
   "execution_count": 21,
   "id": "f9afea3a-3fdc-4078-a184-0e9c4c6ce6d3",
   "metadata": {
    "tags": []
   },
   "outputs": [],
   "source": [
    "# Set the temperature to 0 to prevent hallucination\n",
    "llm = OpenAI(temperature=0, openai_api_key=OPENAI_API_KEY)\n",
    "chain = load_qa_chain(llm, chain_type=\"stuff\")"
   ]
  },
  {
   "cell_type": "code",
   "execution_count": 23,
   "id": "27e17dc3-3126-4397-a929-3d5c7eab5d2e",
   "metadata": {
    "tags": []
   },
   "outputs": [],
   "source": [
    "# Ask your query\n",
    "query = \"Who are the trustees of the fund?\"\n",
    "# Get the closest matches to create some context and information for the answer\n",
    "docs = docsearch.similarity_search(query)"
   ]
  },
  {
   "cell_type": "code",
   "execution_count": null,
   "id": "4e7b8b21-32f4-45cc-a25e-eadf0ed86e63",
   "metadata": {
    "jupyter": {
     "source_hidden": true
    },
    "tags": []
   },
   "outputs": [],
   "source": [
    "docs"
   ]
  },
  {
   "cell_type": "code",
   "execution_count": 25,
   "id": "62247b0d-9667-44fe-b5b3-54bfebabb3e6",
   "metadata": {
    "tags": []
   },
   "outputs": [
    {
     "data": {
      "text/plain": [
       "' Tara Bunch, Emerson U. Fullwood, and Mortimer J. Buckley.'"
      ]
     },
     "execution_count": 25,
     "metadata": {},
     "output_type": "execute_result"
    }
   ],
   "source": [
    "# Execute the query with the context and information from the embedding/semantic search\n",
    "chain.run(input_documents=docs, question=query)"
   ]
  },
  {
   "cell_type": "code",
   "execution_count": 27,
   "id": "e41c7615-f299-4e0d-a9f4-4d992525a989",
   "metadata": {
    "tags": []
   },
   "outputs": [
    {
     "data": {
      "text/plain": [
       "'The trustees of the fund are Tara Bunch, Emerson U. Fullwood, and Mortimer J. Buckley.'"
      ]
     },
     "execution_count": 27,
     "metadata": {},
     "output_type": "execute_result"
    }
   ],
   "source": [
    "# Compare the result with gpt-3.5-turbo, the default above is davinci\n",
    "llm = OpenAI(\n",
    "    openai_api_key=OPENAI_API_KEY,\n",
    "    model_name='gpt-3.5-turbo',\n",
    "    temperature=0.0\n",
    ")\n",
    "\n",
    "chain = load_qa_chain(llm, chain_type=\"stuff\")\n",
    "\n",
    "chain.run(input_documents=docs, question=query)"
   ]
  }
 ],
 "metadata": {
  "dca-init": "true",
  "kernelspec": {
   "display_name": "Python 3 (ipykernel)",
   "language": "python",
   "name": "python3"
  },
  "language_info": {
   "codemirror_mode": {
    "name": "ipython",
    "version": 3
   },
   "file_extension": ".py",
   "mimetype": "text/x-python",
   "name": "python",
   "nbconvert_exporter": "python",
   "pygments_lexer": "ipython3",
   "version": "3.9.18"
  }
 },
 "nbformat": 4,
 "nbformat_minor": 5
}
